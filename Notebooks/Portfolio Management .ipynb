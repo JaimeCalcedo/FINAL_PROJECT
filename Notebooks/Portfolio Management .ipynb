{
 "cells": [
  {
   "cell_type": "code",
   "execution_count": 8,
   "metadata": {},
   "outputs": [],
   "source": [
    "import pandas as pd\n",
    "import numpy as np\n",
    "from datetime import datetime\n",
    "import matplotlib.pyplot as plt\n",
    "import pandas_datareader as web"
   ]
  },
  {
   "cell_type": "markdown",
   "metadata": {},
   "source": [
    "https://www.youtube.com/watch?v=9fjs8FeLMJk"
   ]
  },
  {
   "cell_type": "code",
   "execution_count": 2,
   "metadata": {},
   "outputs": [],
   "source": [
    "#Get the stock tickers in the portfolio, let´s create a fictional portfolio, that we are going to optimize. \n",
    "assets = [\"FB\", \"AMZN\", \"AAPL\", \"NFLX\", \"GOOG\"]"
   ]
  },
  {
   "cell_type": "code",
   "execution_count": 3,
   "metadata": {},
   "outputs": [],
   "source": [
    "#Assign weight to our different stocks in the portfolio.\n",
    "weights = np.array([0.2, 0.2, 0.2, 0.2, 0.2])\n",
    "#20% in each stock"
   ]
  },
  {
   "cell_type": "code",
   "execution_count": 4,
   "metadata": {},
   "outputs": [],
   "source": [
    "#Get the portfolio starting date\n",
    "startdate = \"2013-01-01\""
   ]
  },
  {
   "cell_type": "code",
   "execution_count": 5,
   "metadata": {},
   "outputs": [
    {
     "data": {
      "text/plain": [
       "'2020-12-12'"
      ]
     },
     "execution_count": 5,
     "metadata": {},
     "output_type": "execute_result"
    }
   ],
   "source": [
    "#Ending date\n",
    "today = datetime.today().strftime(\"%Y-%m-%d\")\n",
    "today"
   ]
  },
  {
   "cell_type": "code",
   "execution_count": 7,
   "metadata": {},
   "outputs": [],
   "source": [
    "#Create a dataframe to store the close prices of the stocks\n",
    "df = pd.DataFrame()"
   ]
  },
  {
   "cell_type": "code",
   "execution_count": 11,
   "metadata": {},
   "outputs": [],
   "source": [
    "#Store the close prices of the stocks into the df\n",
    "for stock in assets:\n",
    "    df[stock] = web.DataReader(stock, data_source=\"yahoo\", start = startdate, end = today)[\"Adj Close\"]"
   ]
  },
  {
   "cell_type": "code",
   "execution_count": 12,
   "metadata": {},
   "outputs": [
    {
     "data": {
      "text/html": [
       "<div>\n",
       "<style scoped>\n",
       "    .dataframe tbody tr th:only-of-type {\n",
       "        vertical-align: middle;\n",
       "    }\n",
       "\n",
       "    .dataframe tbody tr th {\n",
       "        vertical-align: top;\n",
       "    }\n",
       "\n",
       "    .dataframe thead th {\n",
       "        text-align: right;\n",
       "    }\n",
       "</style>\n",
       "<table border=\"1\" class=\"dataframe\">\n",
       "  <thead>\n",
       "    <tr style=\"text-align: right;\">\n",
       "      <th></th>\n",
       "      <th>FB</th>\n",
       "      <th>AMZN</th>\n",
       "      <th>AAPL</th>\n",
       "      <th>NFLX</th>\n",
       "      <th>GOOG</th>\n",
       "    </tr>\n",
       "    <tr>\n",
       "      <th>Date</th>\n",
       "      <th></th>\n",
       "      <th></th>\n",
       "      <th></th>\n",
       "      <th></th>\n",
       "      <th></th>\n",
       "    </tr>\n",
       "  </thead>\n",
       "  <tbody>\n",
       "    <tr>\n",
       "      <th>2013-01-02</th>\n",
       "      <td>28.000000</td>\n",
       "      <td>257.309998</td>\n",
       "      <td>16.926661</td>\n",
       "      <td>13.144286</td>\n",
       "      <td>360.274597</td>\n",
       "    </tr>\n",
       "    <tr>\n",
       "      <th>2013-01-03</th>\n",
       "      <td>27.770000</td>\n",
       "      <td>258.480011</td>\n",
       "      <td>16.713015</td>\n",
       "      <td>13.798572</td>\n",
       "      <td>360.483826</td>\n",
       "    </tr>\n",
       "    <tr>\n",
       "      <th>2013-01-04</th>\n",
       "      <td>28.760000</td>\n",
       "      <td>259.149994</td>\n",
       "      <td>16.247477</td>\n",
       "      <td>13.711429</td>\n",
       "      <td>367.607117</td>\n",
       "    </tr>\n",
       "    <tr>\n",
       "      <th>2013-01-07</th>\n",
       "      <td>29.420000</td>\n",
       "      <td>268.459991</td>\n",
       "      <td>16.151909</td>\n",
       "      <td>14.171429</td>\n",
       "      <td>366.003143</td>\n",
       "    </tr>\n",
       "    <tr>\n",
       "      <th>2013-01-08</th>\n",
       "      <td>29.059999</td>\n",
       "      <td>266.380005</td>\n",
       "      <td>16.195379</td>\n",
       "      <td>13.880000</td>\n",
       "      <td>365.280823</td>\n",
       "    </tr>\n",
       "    <tr>\n",
       "      <th>...</th>\n",
       "      <td>...</td>\n",
       "      <td>...</td>\n",
       "      <td>...</td>\n",
       "      <td>...</td>\n",
       "      <td>...</td>\n",
       "    </tr>\n",
       "    <tr>\n",
       "      <th>2020-12-07</th>\n",
       "      <td>285.579987</td>\n",
       "      <td>3158.000000</td>\n",
       "      <td>123.750000</td>\n",
       "      <td>515.780029</td>\n",
       "      <td>1819.479980</td>\n",
       "    </tr>\n",
       "    <tr>\n",
       "      <th>2020-12-08</th>\n",
       "      <td>283.399994</td>\n",
       "      <td>3177.290039</td>\n",
       "      <td>124.379997</td>\n",
       "      <td>512.659973</td>\n",
       "      <td>1818.550049</td>\n",
       "    </tr>\n",
       "    <tr>\n",
       "      <th>2020-12-09</th>\n",
       "      <td>277.920013</td>\n",
       "      <td>3104.199951</td>\n",
       "      <td>121.779999</td>\n",
       "      <td>493.600006</td>\n",
       "      <td>1784.130005</td>\n",
       "    </tr>\n",
       "    <tr>\n",
       "      <th>2020-12-10</th>\n",
       "      <td>277.119995</td>\n",
       "      <td>3101.489990</td>\n",
       "      <td>123.239998</td>\n",
       "      <td>501.089996</td>\n",
       "      <td>1775.329956</td>\n",
       "    </tr>\n",
       "    <tr>\n",
       "      <th>2020-12-11</th>\n",
       "      <td>273.549988</td>\n",
       "      <td>3116.419922</td>\n",
       "      <td>122.410004</td>\n",
       "      <td>503.220001</td>\n",
       "      <td>1781.770020</td>\n",
       "    </tr>\n",
       "  </tbody>\n",
       "</table>\n",
       "<p>2002 rows × 5 columns</p>\n",
       "</div>"
      ],
      "text/plain": [
       "                    FB         AMZN        AAPL        NFLX         GOOG\n",
       "Date                                                                    \n",
       "2013-01-02   28.000000   257.309998   16.926661   13.144286   360.274597\n",
       "2013-01-03   27.770000   258.480011   16.713015   13.798572   360.483826\n",
       "2013-01-04   28.760000   259.149994   16.247477   13.711429   367.607117\n",
       "2013-01-07   29.420000   268.459991   16.151909   14.171429   366.003143\n",
       "2013-01-08   29.059999   266.380005   16.195379   13.880000   365.280823\n",
       "...                ...          ...         ...         ...          ...\n",
       "2020-12-07  285.579987  3158.000000  123.750000  515.780029  1819.479980\n",
       "2020-12-08  283.399994  3177.290039  124.379997  512.659973  1818.550049\n",
       "2020-12-09  277.920013  3104.199951  121.779999  493.600006  1784.130005\n",
       "2020-12-10  277.119995  3101.489990  123.239998  501.089996  1775.329956\n",
       "2020-12-11  273.549988  3116.419922  122.410004  503.220001  1781.770020\n",
       "\n",
       "[2002 rows x 5 columns]"
      ]
     },
     "execution_count": 12,
     "metadata": {},
     "output_type": "execute_result"
    }
   ],
   "source": [
    "df"
   ]
  },
  {
   "cell_type": "code",
   "execution_count": 14,
   "metadata": {},
   "outputs": [
    {
     "data": {
      "image/png": "[encoded data removed]",
      "text/plain": [
       "<Figure size 432x288 with 1 Axes>"
      ]
     },
     "metadata": {
      "needs_background": "light"
     },
     "output_type": "display_data"
    }
   ],
   "source": [
    "#Let´s visualize the portfolio \n",
    "title = \"Portfolio Adj Close Price History\"\n",
    "\n",
    "#Get stocks\n",
    "my_stocks = df\n",
    "\n",
    "#Create and plot the graph\n",
    "for c in my_stocks.columns.values:\n",
    "    plt.plot(my_stocks[c], label = c)\n",
    "    \n",
    "plt.title(title)\n",
    "plt.xlabel(\"Date\", fontsize = 18)\n",
    "plt.ylabel(\"Adj Price USD $\", fontsize = 18)\n",
    "plt.legend(my_stocks.columns.values, loc=\"upper left\")\n",
    "plt.show()"
   ]
  },
  {
   "cell_type": "code",
   "execution_count": 15,
   "metadata": {},
   "outputs": [
    {
     "data": {
      "text/html": [
       "<div>\n",
       "<style scoped>\n",
       "    .dataframe tbody tr th:only-of-type {\n",
       "        vertical-align: middle;\n",
       "    }\n",
       "\n",
       "    .dataframe tbody tr th {\n",
       "        vertical-align: top;\n",
       "    }\n",
       "\n",
       "    .dataframe thead th {\n",
       "        text-align: right;\n",
       "    }\n",
       "</style>\n",
       "<table border=\"1\" class=\"dataframe\">\n",
       "  <thead>\n",
       "    <tr style=\"text-align: right;\">\n",
       "      <th></th>\n",
       "      <th>FB</th>\n",
       "      <th>AMZN</th>\n",
       "      <th>AAPL</th>\n",
       "      <th>NFLX</th>\n",
       "      <th>GOOG</th>\n",
       "    </tr>\n",
       "    <tr>\n",
       "      <th>Date</th>\n",
       "      <th></th>\n",
       "      <th></th>\n",
       "      <th></th>\n",
       "      <th></th>\n",
       "      <th></th>\n",
       "    </tr>\n",
       "  </thead>\n",
       "  <tbody>\n",
       "    <tr>\n",
       "      <th>2013-01-02</th>\n",
       "      <td>NaN</td>\n",
       "      <td>NaN</td>\n",
       "      <td>NaN</td>\n",
       "      <td>NaN</td>\n",
       "      <td>NaN</td>\n",
       "    </tr>\n",
       "    <tr>\n",
       "      <th>2013-01-03</th>\n",
       "      <td>-0.008214</td>\n",
       "      <td>0.004547</td>\n",
       "      <td>-0.012622</td>\n",
       "      <td>0.049777</td>\n",
       "      <td>0.000581</td>\n",
       "    </tr>\n",
       "    <tr>\n",
       "      <th>2013-01-04</th>\n",
       "      <td>0.035650</td>\n",
       "      <td>0.002592</td>\n",
       "      <td>-0.027855</td>\n",
       "      <td>-0.006315</td>\n",
       "      <td>0.019760</td>\n",
       "    </tr>\n",
       "    <tr>\n",
       "      <th>2013-01-07</th>\n",
       "      <td>0.022949</td>\n",
       "      <td>0.035925</td>\n",
       "      <td>-0.005882</td>\n",
       "      <td>0.033549</td>\n",
       "      <td>-0.004363</td>\n",
       "    </tr>\n",
       "    <tr>\n",
       "      <th>2013-01-08</th>\n",
       "      <td>-0.012237</td>\n",
       "      <td>-0.007748</td>\n",
       "      <td>0.002691</td>\n",
       "      <td>-0.020565</td>\n",
       "      <td>-0.001974</td>\n",
       "    </tr>\n",
       "    <tr>\n",
       "      <th>...</th>\n",
       "      <td>...</td>\n",
       "      <td>...</td>\n",
       "      <td>...</td>\n",
       "      <td>...</td>\n",
       "      <td>...</td>\n",
       "    </tr>\n",
       "    <tr>\n",
       "      <th>2020-12-07</th>\n",
       "      <td>0.021022</td>\n",
       "      <td>-0.001448</td>\n",
       "      <td>0.012270</td>\n",
       "      <td>0.035059</td>\n",
       "      <td>-0.004655</td>\n",
       "    </tr>\n",
       "    <tr>\n",
       "      <th>2020-12-08</th>\n",
       "      <td>-0.007634</td>\n",
       "      <td>0.006108</td>\n",
       "      <td>0.005091</td>\n",
       "      <td>-0.006049</td>\n",
       "      <td>-0.000511</td>\n",
       "    </tr>\n",
       "    <tr>\n",
       "      <th>2020-12-09</th>\n",
       "      <td>-0.019337</td>\n",
       "      <td>-0.023004</td>\n",
       "      <td>-0.020904</td>\n",
       "      <td>-0.037179</td>\n",
       "      <td>-0.018927</td>\n",
       "    </tr>\n",
       "    <tr>\n",
       "      <th>2020-12-10</th>\n",
       "      <td>-0.002879</td>\n",
       "      <td>-0.000873</td>\n",
       "      <td>0.011989</td>\n",
       "      <td>0.015174</td>\n",
       "      <td>-0.004932</td>\n",
       "    </tr>\n",
       "    <tr>\n",
       "      <th>2020-12-11</th>\n",
       "      <td>-0.012883</td>\n",
       "      <td>0.004814</td>\n",
       "      <td>-0.006735</td>\n",
       "      <td>0.004251</td>\n",
       "      <td>0.003628</td>\n",
       "    </tr>\n",
       "  </tbody>\n",
       "</table>\n",
       "<p>2002 rows × 5 columns</p>\n",
       "</div>"
      ],
      "text/plain": [
       "                  FB      AMZN      AAPL      NFLX      GOOG\n",
       "Date                                                        \n",
       "2013-01-02       NaN       NaN       NaN       NaN       NaN\n",
       "2013-01-03 -0.008214  0.004547 -0.012622  0.049777  0.000581\n",
       "2013-01-04  0.035650  0.002592 -0.027855 -0.006315  0.019760\n",
       "2013-01-07  0.022949  0.035925 -0.005882  0.033549 -0.004363\n",
       "2013-01-08 -0.012237 -0.007748  0.002691 -0.020565 -0.001974\n",
       "...              ...       ...       ...       ...       ...\n",
       "2020-12-07  0.021022 -0.001448  0.012270  0.035059 -0.004655\n",
       "2020-12-08 -0.007634  0.006108  0.005091 -0.006049 -0.000511\n",
       "2020-12-09 -0.019337 -0.023004 -0.020904 -0.037179 -0.018927\n",
       "2020-12-10 -0.002879 -0.000873  0.011989  0.015174 -0.004932\n",
       "2020-12-11 -0.012883  0.004814 -0.006735  0.004251  0.003628\n",
       "\n",
       "[2002 rows x 5 columns]"
      ]
     },
     "execution_count": 15,
     "metadata": {},
     "output_type": "execute_result"
    }
   ],
   "source": [
    "#Show the daily simple returns\n",
    "returns = df.pct_change()\n",
    "returns"
   ]
  },
  {
   "cell_type": "code",
   "execution_count": 17,
   "metadata": {},
   "outputs": [
    {
     "data": {
      "text/html": [
       "<div>\n",
       "<style scoped>\n",
       "    .dataframe tbody tr th:only-of-type {\n",
       "        vertical-align: middle;\n",
       "    }\n",
       "\n",
       "    .dataframe tbody tr th {\n",
       "        vertical-align: top;\n",
       "    }\n",
       "\n",
       "    .dataframe thead th {\n",
       "        text-align: right;\n",
       "    }\n",
       "</style>\n",
       "<table border=\"1\" class=\"dataframe\">\n",
       "  <thead>\n",
       "    <tr style=\"text-align: right;\">\n",
       "      <th></th>\n",
       "      <th>FB</th>\n",
       "      <th>AMZN</th>\n",
       "      <th>AAPL</th>\n",
       "      <th>NFLX</th>\n",
       "      <th>GOOG</th>\n",
       "    </tr>\n",
       "  </thead>\n",
       "  <tbody>\n",
       "    <tr>\n",
       "      <th>FB</th>\n",
       "      <td>0.119226</td>\n",
       "      <td>0.055293</td>\n",
       "      <td>0.044998</td>\n",
       "      <td>0.056927</td>\n",
       "      <td>0.050594</td>\n",
       "    </tr>\n",
       "    <tr>\n",
       "      <th>AMZN</th>\n",
       "      <td>0.055293</td>\n",
       "      <td>0.094452</td>\n",
       "      <td>0.039931</td>\n",
       "      <td>0.063601</td>\n",
       "      <td>0.047996</td>\n",
       "    </tr>\n",
       "    <tr>\n",
       "      <th>AAPL</th>\n",
       "      <td>0.044998</td>\n",
       "      <td>0.039931</td>\n",
       "      <td>0.081672</td>\n",
       "      <td>0.035322</td>\n",
       "      <td>0.038687</td>\n",
       "    </tr>\n",
       "    <tr>\n",
       "      <th>NFLX</th>\n",
       "      <td>0.056927</td>\n",
       "      <td>0.063601</td>\n",
       "      <td>0.035322</td>\n",
       "      <td>0.211696</td>\n",
       "      <td>0.048925</td>\n",
       "    </tr>\n",
       "    <tr>\n",
       "      <th>GOOG</th>\n",
       "      <td>0.050594</td>\n",
       "      <td>0.047996</td>\n",
       "      <td>0.038687</td>\n",
       "      <td>0.048925</td>\n",
       "      <td>0.066226</td>\n",
       "    </tr>\n",
       "  </tbody>\n",
       "</table>\n",
       "</div>"
      ],
      "text/plain": [
       "            FB      AMZN      AAPL      NFLX      GOOG\n",
       "FB    0.119226  0.055293  0.044998  0.056927  0.050594\n",
       "AMZN  0.055293  0.094452  0.039931  0.063601  0.047996\n",
       "AAPL  0.044998  0.039931  0.081672  0.035322  0.038687\n",
       "NFLX  0.056927  0.063601  0.035322  0.211696  0.048925\n",
       "GOOG  0.050594  0.047996  0.038687  0.048925  0.066226"
      ]
     },
     "execution_count": 17,
     "metadata": {},
     "output_type": "execute_result"
    }
   ],
   "source": [
    "#Let´s show the annualized covariance matrix (it determines the relatinship between the asset prices)\n",
    "#252 ius the number of trading days \n",
    "cov_matrix_annual = returns.cov() * 252\n",
    "cov_matrix_annual"
   ]
  },
  {
   "cell_type": "code",
   "execution_count": 18,
   "metadata": {},
   "outputs": [],
   "source": [
    "#En la diagonal tenemos las varianzas de cada stock ademas de todas las covarianzas.\n",
    "#Recordamos que la raiz de esas varianzas es la desviación tipica\n",
    "#Las desv tipica que en finanzas es la volatilidad"
   ]
  },
  {
   "cell_type": "code",
   "execution_count": 19,
   "metadata": {},
   "outputs": [
    {
     "data": {
      "text/plain": [
       "0.06151282370479426"
      ]
     },
     "execution_count": 19,
     "metadata": {},
     "output_type": "execute_result"
    }
   ],
   "source": [
    "#Let´s calculate the portfolio variance\n",
    "port_variance = np.dot(weights.T, np.dot(cov_matrix_annual, weights))\n",
    "port_variance"
   ]
  },
  {
   "cell_type": "code",
   "execution_count": 20,
   "metadata": {},
   "outputs": [
    {
     "data": {
      "text/plain": [
       "0.2480177890894003"
      ]
     },
     "execution_count": 20,
     "metadata": {},
     "output_type": "execute_result"
    }
   ],
   "source": [
    "#Calculate the portfolio volatility (standard deviation)\n",
    "port_volatility = np.sqrt(port_variance)\n",
    "port_volatility"
   ]
  },
  {
   "cell_type": "code",
   "execution_count": 21,
   "metadata": {},
   "outputs": [
    {
     "data": {
      "text/plain": [
       "0.3586937605263577"
      ]
     },
     "execution_count": 21,
     "metadata": {},
     "output_type": "execute_result"
    }
   ],
   "source": [
    "#Let´s calculate the annual portfolio return \n",
    "portfolioSimpleAnnualReturn = np.sum(returns.mean() * weights) * 252\n",
    "portfolioSimpleAnnualReturn"
   ]
  },
  {
   "cell_type": "code",
   "execution_count": 24,
   "metadata": {},
   "outputs": [
    {
     "name": "stdout",
     "output_type": "stream",
     "text": [
      "Expected annual return: 36.0%\n",
      "Annual volatility / risk: 25.0%\n",
      "Annual variance: 6.0%\n"
     ]
    }
   ],
   "source": [
    "#Show the expected annual return, volatility (risk) and variance\n",
    "percent_var = str(round(port_variance, 2)* 100) + \"%\"\n",
    "percent_vols = str(round(port_volatility, 2)* 100) + \"%\"\n",
    "percent_ret = str(round(portfolioSimpleAnnualReturn, 2)* 100) + \"%\"\n",
    "\n",
    "print(\"Expected annual return: \" + percent_ret)\n",
    "print(\"Annual volatility / risk: \" + percent_vols)\n",
    "print(\"Annual variance: \" + percent_var)"
   ]
  },
  {
   "cell_type": "code",
   "execution_count": 25,
   "metadata": {},
   "outputs": [],
   "source": [
    "#Estos numeros no estan mal, pero podemos optimizarlos, teniendo un mejor return para el mismo risk. "
   ]
  },
  {
   "cell_type": "code",
   "execution_count": 26,
   "metadata": {},
   "outputs": [
    {
     "name": "stdout",
     "output_type": "stream",
     "text": [
      "Collecting PyPortfolioOpt\n",
      "  Downloading PyPortfolioOpt-1.2.7-py3-none-any.whl (48 kB)\n",
      "\u001b[K     |████████████████████████████████| 48 kB 6.3 MB/s eta 0:00:011\n",
      "\u001b[?25hRequirement already satisfied: numpy<2.0,>=1.12 in /Users/Jaime/opt/anaconda3/envs/ironhack/lib/python3.8/site-packages (from PyPortfolioOpt) (1.18.0)\n",
      "Collecting cvxopt<2.0,>=1.2\n",
      "  Downloading cvxopt-1.2.5-cp38-cp38-macosx_10_9_x86_64.whl (3.1 MB)\n",
      "\u001b[K     |████████████████████████████████| 3.1 MB 9.4 MB/s eta 0:00:01\n",
      "\u001b[?25hRequirement already satisfied: scipy<2.0,>=1.3 in /Users/Jaime/opt/anaconda3/envs/ironhack/lib/python3.8/site-packages (from PyPortfolioOpt) (1.5.2)\n",
      "Collecting cvxpy<2.0,>=1.0\n",
      "  Downloading cvxpy-1.1.7.tar.gz (1.0 MB)\n",
      "\u001b[K     |████████████████████████████████| 1.0 MB 42.1 MB/s eta 0:00:01\n",
      "\u001b[?25h  Installing build dependencies ... \u001b[?25ldone\n",
      "\u001b[?25h  Getting requirements to build wheel ... \u001b[?25ldone\n",
      "\u001b[?25h    Preparing wheel metadata ... \u001b[?25ldone\n",
      "\u001b[?25hRequirement already satisfied: pandas>=0.19 in /Users/Jaime/opt/anaconda3/envs/ironhack/lib/python3.8/site-packages (from PyPortfolioOpt) (1.0.3)\n",
      "Collecting osqp>=0.4.1\n",
      "  Downloading osqp-0.6.1-cp38-cp38-macosx_10_9_x86_64.whl (158 kB)\n",
      "\u001b[K     |████████████████████████████████| 158 kB 28.5 MB/s eta 0:00:01\n",
      "\u001b[?25hCollecting scs>=1.1.6\n",
      "  Downloading scs-2.1.2.tar.gz (3.5 MB)\n",
      "\u001b[K     |████████████████████████████████| 3.5 MB 23.9 MB/s eta 0:00:01\n",
      "\u001b[?25hCollecting ecos>=2\n",
      "  Downloading ecos-2.0.7.post1.tar.gz (126 kB)\n",
      "\u001b[K     |████████████████████████████████| 126 kB 34.9 MB/s eta 0:00:01\n",
      "\u001b[?25hRequirement already satisfied: pytz>=2017.2 in /Users/Jaime/opt/anaconda3/envs/ironhack/lib/python3.8/site-packages (from pandas>=0.19->PyPortfolioOpt) (2019.3)\n",
      "Requirement already satisfied: python-dateutil>=2.6.1 in /Users/Jaime/opt/anaconda3/envs/ironhack/lib/python3.8/site-packages (from pandas>=0.19->PyPortfolioOpt) (2.8.1)\n",
      "Requirement already satisfied: future in /Users/Jaime/opt/anaconda3/envs/ironhack/lib/python3.8/site-packages (from osqp>=0.4.1->cvxpy<2.0,>=1.0->PyPortfolioOpt) (0.18.2)\n",
      "Requirement already satisfied: six>=1.5 in /Users/Jaime/opt/anaconda3/envs/ironhack/lib/python3.8/site-packages (from python-dateutil>=2.6.1->pandas>=0.19->PyPortfolioOpt) (1.13.0)\n",
      "Building wheels for collected packages: cvxpy, scs, ecos\n",
      "  Building wheel for cvxpy (PEP 517) ... \u001b[?25ldone\n",
      "\u001b[?25h  Created wheel for cvxpy: filename=cvxpy-1.1.7-cp38-cp38-macosx_10_9_x86_64.whl size=829661 sha256=6357a0e6e2e1d500bbe40de0f71a31d9ebfdbfbfe41e81c140edde9aabc62af4\n",
      "  Stored in directory: /Users/Jaime/Library/Caches/pip/wheels/51/a4/25/decef34c7e5328b040c66f7bc3ca49bd6a22dae43f0230e848\n",
      "  Building wheel for scs (setup.py) ... \u001b[?25ldone\n",
      "\u001b[?25h  Created wheel for scs: filename=scs-2.1.2-cp38-cp38-macosx_10_14_x86_64.whl size=119338 sha256=3bccebcc7ecdea7bcfb52746d209ae898f3ab06c1fceb1fd73fa442318c0a4be\n",
      "  Stored in directory: /Users/Jaime/Library/Caches/pip/wheels/64/b7/4b/a5c555c1d94b8a25ac3f9da1bdd19ba9896f558d124de7d7ef\n",
      "  Building wheel for ecos (setup.py) ... \u001b[?25ldone\n",
      "\u001b[?25h  Created wheel for ecos: filename=ecos-2.0.7.post1-cp38-cp38-macosx_10_9_x86_64.whl size=84702 sha256=841dfb2f1d459693b01aa9280b55c07640973c2a3b579b5da2bc917453c142d6\n",
      "  Stored in directory: /Users/Jaime/Library/Caches/pip/wheels/c3/c1/ce/b551b0b3a40c990e1da2ec9aecff62f7c2d43cab8766368e82\n",
      "Successfully built cvxpy scs ecos\n",
      "Installing collected packages: cvxopt, osqp, scs, ecos, cvxpy, PyPortfolioOpt\n",
      "Successfully installed PyPortfolioOpt-1.2.7 cvxopt-1.2.5 cvxpy-1.1.7 ecos-2.0.7.post1 osqp-0.6.1 scs-2.1.2\n"
     ]
    }
   ],
   "source": [
    "!pip install PyPortfolioOpt"
   ]
  },
  {
   "cell_type": "code",
   "execution_count": 27,
   "metadata": {},
   "outputs": [],
   "source": [
    "from pypfopt.efficient_frontier import EfficientFrontier\n",
    "from pypfopt import risk_models\n",
    "from pypfopt import expected_returns"
   ]
  },
  {
   "cell_type": "code",
   "execution_count": 29,
   "metadata": {},
   "outputs": [
    {
     "name": "stdout",
     "output_type": "stream",
     "text": [
      "OrderedDict([('FB', 0.09269), ('AMZN', 0.30318), ('AAPL', 0.26122), ('NFLX', 0.34291), ('GOOG', 0.0)])\n",
      "Expected annual return: 41.6%\n",
      "Annual volatility: 27.4%\n",
      "Sharpe Ratio: 1.45\n"
     ]
    },
    {
     "data": {
      "text/plain": [
       "(0.41638209726369185, 0.27377837426757445, 1.4478210644800305)"
      ]
     },
     "execution_count": 29,
     "metadata": {},
     "output_type": "execute_result"
    }
   ],
   "source": [
    "#Portfolio Optimization \n",
    "\n",
    "#Let´s calculate the expected returns and the annualised sample covariance matrix of asset returns \n",
    "mu = expected_returns.mean_historical_return(df)\n",
    "S = risk_models.sample_cov(df)\n",
    "\n",
    "#Let´s optimize for max sharpe ratio. Way to describe how much excess return you receive for an extra amount of volatility.\n",
    "#Measures the performance of an investment, compared with an investment which is risk free (bonds, tesoro, ...)\n",
    "ef = EfficientFrontier(mu, S)\n",
    "weights = ef.max_sharpe()\n",
    "cleaned_weights = ef.clean_weights()\n",
    "#This is a helper method to clean the row weights(es un redondeo que puedes editar min 32)\n",
    "#It´s going to get rid of the stocks that we don´t need to get to the optimal portfolio. \n",
    "print(cleaned_weights)\n",
    "ef.portfolio_performance(verbose = True)"
   ]
  },
  {
   "cell_type": "code",
   "execution_count": 30,
   "metadata": {},
   "outputs": [
    {
     "data": {
      "text/plain": [
       "1.0"
      ]
     },
     "execution_count": 30,
     "metadata": {},
     "output_type": "execute_result"
    }
   ],
   "source": [
    "#Si sumamos los pesos esto debería dar 1\n",
    "0.09269 + 0.30318 + 0.26122 + 0.34291"
   ]
  },
  {
   "cell_type": "code",
   "execution_count": 32,
   "metadata": {},
   "outputs": [
    {
     "name": "stdout",
     "output_type": "stream",
     "text": [
      "Discrete allocation:  {'FB': 6, 'AMZN': 1, 'AAPL': 33, 'NFLX': 11}\n",
      "Funds remaining: $667.33\n"
     ]
    }
   ],
   "source": [
    "#Get the discrete allocation of each share per stock\n",
    "from pypfopt.discrete_allocation import DiscreteAllocation, get_latest_prices\n",
    "\n",
    "latest_prices = get_latest_prices(df)\n",
    "weights = cleaned_weights\n",
    "da = DiscreteAllocation(weights, latest_prices, total_portfolio_value = 15000)\n",
    "\n",
    "allocation , leftover = da.lp_portfolio()\n",
    "print(\"Discrete allocation: \", allocation)\n",
    "print(\"Funds remaining: ${:.2f}\".format(leftover))"
   ]
  },
  {
   "cell_type": "code",
   "execution_count": null,
   "metadata": {},
   "outputs": [],
   "source": []
  }
 ],
 "metadata": {
  "kernelspec": {
   "display_name": "Python 3",
   "language": "python",
   "name": "python3"
  },
  "language_info": {
   "codemirror_mode": {
    "name": "ipython",
    "version": 3
   },
   "file_extension": ".py",
   "mimetype": "text/x-python",
   "name": "python",
   "nbconvert_exporter": "python",
   "pygments_lexer": "ipython3",
   "version": "3.8.5"
  }
 },
 "nbformat": 4,
 "nbformat_minor": 4
}
