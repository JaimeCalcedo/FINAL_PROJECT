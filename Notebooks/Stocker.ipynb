{
 "cells": [
  {
   "cell_type": "markdown",
   "metadata": {},
   "source": [
    "https://towardsdatascience.com/stock-prediction-in-python-b66555171a2"
   ]
  },
  {
   "cell_type": "code",
   "execution_count": 20,
   "metadata": {},
   "outputs": [
    {
     "name": "stdout",
     "output_type": "stream",
     "text": [
      "Requirement already satisfied: stocker in /Users/Jaime/opt/anaconda3/envs/ironhack/lib/python3.8/site-packages (0.1.7)\n",
      "Requirement already satisfied: pandas-datareader in /Users/Jaime/opt/anaconda3/envs/ironhack/lib/python3.8/site-packages (from stocker) (0.9.0)\n",
      "Requirement already satisfied: pandas in /Users/Jaime/opt/anaconda3/envs/ironhack/lib/python3.8/site-packages (from stocker) (1.0.3)\n",
      "Requirement already satisfied: keras in /Users/Jaime/opt/anaconda3/envs/ironhack/lib/python3.8/site-packages (from stocker) (2.4.3)\n",
      "Requirement already satisfied: scikit-learn in /Users/Jaime/opt/anaconda3/envs/ironhack/lib/python3.8/site-packages (from stocker) (0.23.2)\n",
      "Requirement already satisfied: numpy in /Users/Jaime/opt/anaconda3/envs/ironhack/lib/python3.8/site-packages (from stocker) (1.18.0)\n",
      "Requirement already satisfied: matplotlib in /Users/Jaime/opt/anaconda3/envs/ironhack/lib/python3.8/site-packages (from stocker) (3.1.2)\n",
      "Requirement already satisfied: pytrends in /Users/Jaime/opt/anaconda3/envs/ironhack/lib/python3.8/site-packages (from stocker) (4.7.3)\n",
      "Requirement already satisfied: tensorflow in /Users/Jaime/opt/anaconda3/envs/ironhack/lib/python3.8/site-packages (from stocker) (2.3.1)\n",
      "Requirement already satisfied: requests in /Users/Jaime/opt/anaconda3/envs/ironhack/lib/python3.8/site-packages (from stocker) (2.22.0)\n",
      "Requirement already satisfied: lxml in /Users/Jaime/opt/anaconda3/envs/ironhack/lib/python3.8/site-packages (from pandas-datareader->stocker) (4.4.2)\n",
      "Requirement already satisfied: pytz>=2017.2 in /Users/Jaime/opt/anaconda3/envs/ironhack/lib/python3.8/site-packages (from pandas->stocker) (2019.3)\n",
      "Requirement already satisfied: python-dateutil>=2.6.1 in /Users/Jaime/opt/anaconda3/envs/ironhack/lib/python3.8/site-packages (from pandas->stocker) (2.8.1)\n",
      "Requirement already satisfied: h5py in /Users/Jaime/opt/anaconda3/envs/ironhack/lib/python3.8/site-packages (from keras->stocker) (2.10.0)\n",
      "Requirement already satisfied: scipy>=0.14 in /Users/Jaime/opt/anaconda3/envs/ironhack/lib/python3.8/site-packages (from keras->stocker) (1.5.2)\n",
      "Requirement already satisfied: pyyaml in /Users/Jaime/opt/anaconda3/envs/ironhack/lib/python3.8/site-packages (from keras->stocker) (5.3.1)\n",
      "Requirement already satisfied: threadpoolctl>=2.0.0 in /Users/Jaime/opt/anaconda3/envs/ironhack/lib/python3.8/site-packages (from scikit-learn->stocker) (2.1.0)\n",
      "Requirement already satisfied: joblib>=0.11 in /Users/Jaime/opt/anaconda3/envs/ironhack/lib/python3.8/site-packages (from scikit-learn->stocker) (0.17.0)\n",
      "Requirement already satisfied: cycler>=0.10 in /Users/Jaime/opt/anaconda3/envs/ironhack/lib/python3.8/site-packages (from matplotlib->stocker) (0.10.0)\n",
      "Requirement already satisfied: kiwisolver>=1.0.1 in /Users/Jaime/opt/anaconda3/envs/ironhack/lib/python3.8/site-packages (from matplotlib->stocker) (1.3.0)\n",
      "Requirement already satisfied: pyparsing!=2.0.4,!=2.1.2,!=2.1.6,>=2.0.1 in /Users/Jaime/opt/anaconda3/envs/ironhack/lib/python3.8/site-packages (from matplotlib->stocker) (2.4.7)\n",
      "Requirement already satisfied: tensorboard<3,>=2.3.0 in /Users/Jaime/opt/anaconda3/envs/ironhack/lib/python3.8/site-packages (from tensorflow->stocker) (2.4.0)\n",
      "Requirement already satisfied: wrapt>=1.11.1 in /Users/Jaime/opt/anaconda3/envs/ironhack/lib/python3.8/site-packages (from tensorflow->stocker) (1.12.1)\n",
      "Requirement already satisfied: astunparse==1.6.3 in /Users/Jaime/opt/anaconda3/envs/ironhack/lib/python3.8/site-packages (from tensorflow->stocker) (1.6.3)\n",
      "Requirement already satisfied: wheel>=0.26 in /Users/Jaime/opt/anaconda3/envs/ironhack/lib/python3.8/site-packages (from tensorflow->stocker) (0.35.1)\n",
      "Requirement already satisfied: gast==0.3.3 in /Users/Jaime/opt/anaconda3/envs/ironhack/lib/python3.8/site-packages (from tensorflow->stocker) (0.3.3)\n",
      "Requirement already satisfied: grpcio>=1.8.6 in /Users/Jaime/opt/anaconda3/envs/ironhack/lib/python3.8/site-packages (from tensorflow->stocker) (1.34.0)\n",
      "Requirement already satisfied: absl-py>=0.7.0 in /Users/Jaime/opt/anaconda3/envs/ironhack/lib/python3.8/site-packages (from tensorflow->stocker) (0.11.0)\n",
      "Requirement already satisfied: tensorflow-estimator<2.4.0,>=2.3.0 in /Users/Jaime/opt/anaconda3/envs/ironhack/lib/python3.8/site-packages (from tensorflow->stocker) (2.3.0)\n",
      "Requirement already satisfied: google-pasta>=0.1.8 in /Users/Jaime/opt/anaconda3/envs/ironhack/lib/python3.8/site-packages (from tensorflow->stocker) (0.2.0)\n",
      "Requirement already satisfied: keras-preprocessing<1.2,>=1.1.1 in /Users/Jaime/opt/anaconda3/envs/ironhack/lib/python3.8/site-packages (from tensorflow->stocker) (1.1.2)\n",
      "Requirement already satisfied: termcolor>=1.1.0 in /Users/Jaime/opt/anaconda3/envs/ironhack/lib/python3.8/site-packages (from tensorflow->stocker) (1.1.0)\n",
      "Requirement already satisfied: protobuf>=3.9.2 in /Users/Jaime/opt/anaconda3/envs/ironhack/lib/python3.8/site-packages (from tensorflow->stocker) (3.14.0)\n",
      "Requirement already satisfied: six>=1.12.0 in /Users/Jaime/opt/anaconda3/envs/ironhack/lib/python3.8/site-packages (from tensorflow->stocker) (1.13.0)\n",
      "Requirement already satisfied: opt-einsum>=2.3.2 in /Users/Jaime/opt/anaconda3/envs/ironhack/lib/python3.8/site-packages (from tensorflow->stocker) (3.3.0)\n",
      "Requirement already satisfied: idna<2.9,>=2.5 in /Users/Jaime/opt/anaconda3/envs/ironhack/lib/python3.8/site-packages (from requests->stocker) (2.8)\n",
      "Requirement already satisfied: chardet<3.1.0,>=3.0.2 in /Users/Jaime/opt/anaconda3/envs/ironhack/lib/python3.8/site-packages (from requests->stocker) (3.0.4)\n",
      "Requirement already satisfied: urllib3!=1.25.0,!=1.25.1,<1.26,>=1.21.1 in /Users/Jaime/opt/anaconda3/envs/ironhack/lib/python3.8/site-packages (from requests->stocker) (1.25.7)\n",
      "Requirement already satisfied: certifi>=2017.4.17 in /Users/Jaime/opt/anaconda3/envs/ironhack/lib/python3.8/site-packages (from requests->stocker) (2019.11.28)\n",
      "Requirement already satisfied: tensorboard-plugin-wit>=1.6.0 in /Users/Jaime/opt/anaconda3/envs/ironhack/lib/python3.8/site-packages (from tensorboard<3,>=2.3.0->tensorflow->stocker) (1.7.0)\n",
      "Requirement already satisfied: google-auth-oauthlib<0.5,>=0.4.1 in /Users/Jaime/opt/anaconda3/envs/ironhack/lib/python3.8/site-packages (from tensorboard<3,>=2.3.0->tensorflow->stocker) (0.4.2)\n",
      "Requirement already satisfied: setuptools>=41.0.0 in /Users/Jaime/opt/anaconda3/envs/ironhack/lib/python3.8/site-packages (from tensorboard<3,>=2.3.0->tensorflow->stocker) (50.3.1.post20201107)\n",
      "Requirement already satisfied: werkzeug>=0.11.15 in /Users/Jaime/opt/anaconda3/envs/ironhack/lib/python3.8/site-packages (from tensorboard<3,>=2.3.0->tensorflow->stocker) (1.0.1)\n",
      "Requirement already satisfied: markdown>=2.6.8 in /Users/Jaime/opt/anaconda3/envs/ironhack/lib/python3.8/site-packages (from tensorboard<3,>=2.3.0->tensorflow->stocker) (3.3.3)\n",
      "Requirement already satisfied: google-auth<2,>=1.6.3 in /Users/Jaime/opt/anaconda3/envs/ironhack/lib/python3.8/site-packages (from tensorboard<3,>=2.3.0->tensorflow->stocker) (1.23.0)\n",
      "Requirement already satisfied: requests-oauthlib>=0.7.0 in /Users/Jaime/opt/anaconda3/envs/ironhack/lib/python3.8/site-packages (from google-auth-oauthlib<0.5,>=0.4.1->tensorboard<3,>=2.3.0->tensorflow->stocker) (1.3.0)\n",
      "Requirement already satisfied: rsa<5,>=3.1.4; python_version >= \"3.5\" in /Users/Jaime/opt/anaconda3/envs/ironhack/lib/python3.8/site-packages (from google-auth<2,>=1.6.3->tensorboard<3,>=2.3.0->tensorflow->stocker) (4.6)\n",
      "Requirement already satisfied: pyasn1-modules>=0.2.1 in /Users/Jaime/opt/anaconda3/envs/ironhack/lib/python3.8/site-packages (from google-auth<2,>=1.6.3->tensorboard<3,>=2.3.0->tensorflow->stocker) (0.2.8)\n",
      "Requirement already satisfied: cachetools<5.0,>=2.0.0 in /Users/Jaime/opt/anaconda3/envs/ironhack/lib/python3.8/site-packages (from google-auth<2,>=1.6.3->tensorboard<3,>=2.3.0->tensorflow->stocker) (4.1.1)\n",
      "Requirement already satisfied: oauthlib>=3.0.0 in /Users/Jaime/opt/anaconda3/envs/ironhack/lib/python3.8/site-packages (from requests-oauthlib>=0.7.0->google-auth-oauthlib<0.5,>=0.4.1->tensorboard<3,>=2.3.0->tensorflow->stocker) (3.1.0)\n",
      "Requirement already satisfied: pyasn1>=0.1.3 in /Users/Jaime/opt/anaconda3/envs/ironhack/lib/python3.8/site-packages (from rsa<5,>=3.1.4; python_version >= \"3.5\"->google-auth<2,>=1.6.3->tensorboard<3,>=2.3.0->tensorflow->stocker) (0.4.8)\n"
     ]
    }
   ],
   "source": [
    "!pip install stocker"
   ]
  },
  {
   "cell_type": "code",
   "execution_count": 23,
   "metadata": {},
   "outputs": [
    {
     "name": "stdout",
     "output_type": "stream",
     "text": [
      "Collecting quandl\n",
      "  Downloading Quandl-3.5.3-py2.py3-none-any.whl (25 kB)\n",
      "Collecting numpy\n",
      "  Using cached numpy-1.19.4-cp38-cp38-macosx_10_9_x86_64.whl (15.3 MB)\n",
      "Collecting pandas\n",
      "  Downloading pandas-1.1.5-cp38-cp38-macosx_10_9_x86_64.whl (10.1 MB)\n",
      "\u001b[K     |████████████████████████████████| 10.1 MB 6.2 MB/s eta 0:00:01\n",
      "\u001b[?25hCollecting fbprophet\n",
      "  Downloading fbprophet-0.7.1.tar.gz (64 kB)\n",
      "\u001b[K     |████████████████████████████████| 64 kB 8.4 MB/s  eta 0:00:01\n",
      "\u001b[?25hCollecting matplotlib\n",
      "  Downloading matplotlib-3.3.3-cp38-cp38-macosx_10_9_x86_64.whl (8.5 MB)\n",
      "\u001b[K     |████████████████████████████████| 8.5 MB 12.1 MB/s eta 0:00:01     |█████████████████▌              | 4.6 MB 12.1 MB/s eta 0:00:01\n",
      "\u001b[?25hRequirement already up-to-date: pytrends in /Users/Jaime/opt/anaconda3/envs/ironhack/lib/python3.8/site-packages (4.7.3)\n",
      "Collecting pystan\n",
      "  Downloading pystan-2.19.1.1-cp38-cp38-macosx_10_9_x86_64.whl (37.4 MB)\n",
      "\u001b[K     |████████████████████████████████| 37.4 MB 16.2 MB/s eta 0:00:01     |████████████████████▎           | 23.6 MB 16.2 MB/s eta 0:00:01\n",
      "\u001b[?25hCollecting inflection>=0.3.1\n",
      "  Downloading inflection-0.5.1-py2.py3-none-any.whl (9.5 kB)\n",
      "Requirement already satisfied, skipping upgrade: requests>=2.7.0 in /Users/Jaime/opt/anaconda3/envs/ironhack/lib/python3.8/site-packages (from quandl) (2.22.0)\n",
      "Requirement already satisfied, skipping upgrade: python-dateutil in /Users/Jaime/opt/anaconda3/envs/ironhack/lib/python3.8/site-packages (from quandl) (2.8.1)\n",
      "Requirement already satisfied, skipping upgrade: six in /Users/Jaime/opt/anaconda3/envs/ironhack/lib/python3.8/site-packages (from quandl) (1.13.0)\n",
      "Requirement already satisfied, skipping upgrade: more-itertools in /Users/Jaime/opt/anaconda3/envs/ironhack/lib/python3.8/site-packages (from quandl) (8.6.0)\n",
      "Requirement already satisfied, skipping upgrade: pytz>=2017.2 in /Users/Jaime/opt/anaconda3/envs/ironhack/lib/python3.8/site-packages (from pandas) (2019.3)\n",
      "Collecting Cython>=0.22\n",
      "  Downloading Cython-0.29.21-cp38-cp38-macosx_10_9_x86_64.whl (1.9 MB)\n",
      "\u001b[K     |████████████████████████████████| 1.9 MB 33.6 MB/s eta 0:00:01\n",
      "\u001b[?25hCollecting cmdstanpy==0.9.5\n",
      "  Downloading cmdstanpy-0.9.5-py3-none-any.whl (37 kB)\n",
      "Collecting LunarCalendar>=0.0.9\n",
      "  Downloading LunarCalendar-0.0.9-py2.py3-none-any.whl (18 kB)\n",
      "Collecting convertdate>=2.1.2\n",
      "  Downloading convertdate-2.3.0-py3-none-any.whl (45 kB)\n",
      "\u001b[K     |████████████████████████████████| 45 kB 7.7 MB/s  eta 0:00:01\n",
      "\u001b[?25hCollecting holidays>=0.10.2\n",
      "  Downloading holidays-0.10.4.tar.gz (120 kB)\n",
      "\u001b[K     |████████████████████████████████| 120 kB 29.3 MB/s eta 0:00:01\n",
      "\u001b[?25hCollecting setuptools-git>=1.2\n",
      "  Downloading setuptools_git-1.2-py2.py3-none-any.whl (10 kB)\n",
      "Collecting tqdm>=4.36.1\n",
      "  Downloading tqdm-4.54.1-py2.py3-none-any.whl (69 kB)\n",
      "\u001b[K     |████████████████████████████████| 69 kB 3.7 MB/s  eta 0:00:01\n",
      "\u001b[?25hRequirement already satisfied, skipping upgrade: pillow>=6.2.0 in /Users/Jaime/opt/anaconda3/envs/ironhack/lib/python3.8/site-packages (from matplotlib) (8.0.1)\n",
      "Requirement already satisfied, skipping upgrade: cycler>=0.10 in /Users/Jaime/opt/anaconda3/envs/ironhack/lib/python3.8/site-packages (from matplotlib) (0.10.0)\n",
      "Requirement already satisfied, skipping upgrade: pyparsing!=2.0.4,!=2.1.2,!=2.1.6,>=2.0.3 in /Users/Jaime/opt/anaconda3/envs/ironhack/lib/python3.8/site-packages (from matplotlib) (2.4.7)\n",
      "Requirement already satisfied, skipping upgrade: kiwisolver>=1.0.1 in /Users/Jaime/opt/anaconda3/envs/ironhack/lib/python3.8/site-packages (from matplotlib) (1.3.0)\n",
      "Requirement already satisfied, skipping upgrade: lxml in /Users/Jaime/opt/anaconda3/envs/ironhack/lib/python3.8/site-packages (from pytrends) (4.4.2)\n",
      "Requirement already satisfied, skipping upgrade: certifi>=2017.4.17 in /Users/Jaime/opt/anaconda3/envs/ironhack/lib/python3.8/site-packages (from requests>=2.7.0->quandl) (2019.11.28)\n",
      "Requirement already satisfied, skipping upgrade: idna<2.9,>=2.5 in /Users/Jaime/opt/anaconda3/envs/ironhack/lib/python3.8/site-packages (from requests>=2.7.0->quandl) (2.8)\n",
      "Requirement already satisfied, skipping upgrade: chardet<3.1.0,>=3.0.2 in /Users/Jaime/opt/anaconda3/envs/ironhack/lib/python3.8/site-packages (from requests>=2.7.0->quandl) (3.0.4)\n",
      "Requirement already satisfied, skipping upgrade: urllib3!=1.25.0,!=1.25.1,<1.26,>=1.21.1 in /Users/Jaime/opt/anaconda3/envs/ironhack/lib/python3.8/site-packages (from requests>=2.7.0->quandl) (1.25.7)\n",
      "Collecting ephem>=3.7.5.3\n",
      "  Downloading ephem-3.7.7.1-cp38-cp38-macosx_10_9_x86_64.whl (823 kB)\n",
      "\u001b[K     |████████████████████████████████| 823 kB 18.7 MB/s eta 0:00:01\n",
      "\u001b[?25hCollecting pymeeus<=1,>=0.3.6\n",
      "  Downloading PyMeeus-0.3.7.tar.gz (732 kB)\n",
      "\u001b[K     |████████████████████████████████| 732 kB 4.9 MB/s eta 0:00:01\n",
      "\u001b[?25hCollecting korean_lunar_calendar\n",
      "  Downloading korean_lunar_calendar-0.2.1-py3-none-any.whl (8.0 kB)\n",
      "Building wheels for collected packages: fbprophet, holidays, pymeeus\n",
      "  Building wheel for fbprophet (setup.py) ... \u001b[?25lerror\n",
      "\u001b[31m  ERROR: Command errored out with exit status 1:\n",
      "   command: /Users/Jaime/opt/anaconda3/envs/ironhack/bin/python -u -c 'import sys, setuptools, tokenize; sys.argv[0] = '\"'\"'/private/var/folders/kr/rn250w_x7d341z12cjn2fcxr0000gp/T/pip-install-qn6z85xc/fbprophet/setup.py'\"'\"'; __file__='\"'\"'/private/var/folders/kr/rn250w_x7d341z12cjn2fcxr0000gp/T/pip-install-qn6z85xc/fbprophet/setup.py'\"'\"';f=getattr(tokenize, '\"'\"'open'\"'\"', open)(__file__);code=f.read().replace('\"'\"'\\r\\n'\"'\"', '\"'\"'\\n'\"'\"');f.close();exec(compile(code, __file__, '\"'\"'exec'\"'\"'))' bdist_wheel -d /private/var/folders/kr/rn250w_x7d341z12cjn2fcxr0000gp/T/pip-wheel-8h6zxmbx\n",
      "       cwd: /private/var/folders/kr/rn250w_x7d341z12cjn2fcxr0000gp/T/pip-install-qn6z85xc/fbprophet/\n",
      "  Complete output (44 lines):\n",
      "  running bdist_wheel\n",
      "  running build\n",
      "  running build_py\n",
      "  creating build\n",
      "  creating build/lib\n",
      "  creating build/lib/fbprophet\n",
      "  creating build/lib/fbprophet/stan_model\n",
      "  Traceback (most recent call last):\n",
      "    File \"<string>\", line 1, in <module>\n",
      "    File \"/private/var/folders/kr/rn250w_x7d341z12cjn2fcxr0000gp/T/pip-install-qn6z85xc/fbprophet/setup.py\", line 122, in <module>\n",
      "      setup(\n",
      "    File \"/Users/Jaime/opt/anaconda3/envs/ironhack/lib/python3.8/site-packages/setuptools/__init__.py\", line 153, in setup\n",
      "      return distutils.core.setup(**attrs)\n",
      "    File \"/Users/Jaime/opt/anaconda3/envs/ironhack/lib/python3.8/distutils/core.py\", line 148, in setup\n",
      "      dist.run_commands()\n",
      "    File \"/Users/Jaime/opt/anaconda3/envs/ironhack/lib/python3.8/distutils/dist.py\", line 966, in run_commands\n",
      "      self.run_command(cmd)\n",
      "    File \"/Users/Jaime/opt/anaconda3/envs/ironhack/lib/python3.8/distutils/dist.py\", line 985, in run_command\n",
      "      cmd_obj.run()\n",
      "    File \"/Users/Jaime/opt/anaconda3/envs/ironhack/lib/python3.8/site-packages/wheel/bdist_wheel.py\", line 290, in run\n",
      "      self.run_command('build')\n",
      "    File \"/Users/Jaime/opt/anaconda3/envs/ironhack/lib/python3.8/distutils/cmd.py\", line 313, in run_command\n",
      "      self.distribution.run_command(command)\n",
      "    File \"/Users/Jaime/opt/anaconda3/envs/ironhack/lib/python3.8/distutils/dist.py\", line 985, in run_command\n",
      "      cmd_obj.run()\n",
      "    File \"/Users/Jaime/opt/anaconda3/envs/ironhack/lib/python3.8/distutils/command/build.py\", line 135, in run\n",
      "      self.run_command(cmd_name)\n",
      "    File \"/Users/Jaime/opt/anaconda3/envs/ironhack/lib/python3.8/distutils/cmd.py\", line 313, in run_command\n",
      "      self.distribution.run_command(command)\n",
      "    File \"/Users/Jaime/opt/anaconda3/envs/ironhack/lib/python3.8/distutils/dist.py\", line 985, in run_command\n",
      "      cmd_obj.run()\n",
      "    File \"/private/var/folders/kr/rn250w_x7d341z12cjn2fcxr0000gp/T/pip-install-qn6z85xc/fbprophet/setup.py\", line 48, in run\n",
      "      build_models(target_dir)\n",
      "    File \"/private/var/folders/kr/rn250w_x7d341z12cjn2fcxr0000gp/T/pip-install-qn6z85xc/fbprophet/setup.py\", line 36, in build_models\n",
      "      from fbprophet.models import StanBackendEnum\n",
      "    File \"/private/var/folders/kr/rn250w_x7d341z12cjn2fcxr0000gp/T/pip-install-qn6z85xc/fbprophet/fbprophet/__init__.py\", line 8, in <module>\n",
      "      from fbprophet.forecaster import Prophet\n",
      "    File \"/private/var/folders/kr/rn250w_x7d341z12cjn2fcxr0000gp/T/pip-install-qn6z85xc/fbprophet/fbprophet/forecaster.py\", line 17, in <module>\n",
      "      from fbprophet.make_holidays import get_holiday_names, make_holidays_df\n",
      "    File \"/private/var/folders/kr/rn250w_x7d341z12cjn2fcxr0000gp/T/pip-install-qn6z85xc/fbprophet/fbprophet/make_holidays.py\", line 14, in <module>\n",
      "      import fbprophet.hdays as hdays_part2\n",
      "    File \"/private/var/folders/kr/rn250w_x7d341z12cjn2fcxr0000gp/T/pip-install-qn6z85xc/fbprophet/fbprophet/hdays.py\", line 13, in <module>\n",
      "      from convertdate.islamic import from_gregorian, to_gregorian\n",
      "  ModuleNotFoundError: No module named 'convertdate'\n",
      "  ----------------------------------------\u001b[0m\n",
      "\u001b[31m  ERROR: Failed building wheel for fbprophet\u001b[0m\n",
      "\u001b[?25h  Running setup.py clean for fbprophet\n"
     ]
    },
    {
     "name": "stdout",
     "output_type": "stream",
     "text": [
      "  Building wheel for holidays (setup.py) ... \u001b[?25ldone\n",
      "\u001b[?25h  Created wheel for holidays: filename=holidays-0.10.4-py3-none-any.whl size=124775 sha256=c93429bf349df4dcb04a9671c6476283ede1a68e481988f6ac0790bd876c7fd0\n",
      "  Stored in directory: /Users/Jaime/Library/Caches/pip/wheels/ef/70/9e/34eb54fef725c637dc8ce508e323021fd709354951abe622c4\n",
      "  Building wheel for pymeeus (setup.py) ... \u001b[?25ldone\n",
      "\u001b[?25h  Created wheel for pymeeus: filename=PyMeeus-0.3.7-py3-none-any.whl size=702877 sha256=1c8da5eef507c9c62d36f3b33fcb5bb7b5e30f82e91ce703058e5f565b30409b\n",
      "  Stored in directory: /Users/Jaime/Library/Caches/pip/wheels/5a/68/50/d989a005ecd4f58a7922bede25ff7e391d66395a3090acf97a\n",
      "Successfully built holidays pymeeus\n",
      "Failed to build fbprophet\n",
      "Installing collected packages: inflection, numpy, pandas, quandl, Cython, cmdstanpy, pystan, matplotlib, ephem, LunarCalendar, pymeeus, convertdate, korean-lunar-calendar, holidays, setuptools-git, tqdm, fbprophet\n",
      "  Attempting uninstall: numpy\n",
      "    Found existing installation: numpy 1.18.0\n",
      "    Uninstalling numpy-1.18.0:\n",
      "      Successfully uninstalled numpy-1.18.0\n",
      "  Attempting uninstall: pandas\n",
      "    Found existing installation: pandas 1.0.3\n",
      "    Uninstalling pandas-1.0.3:\n",
      "      Successfully uninstalled pandas-1.0.3\n",
      "  Attempting uninstall: matplotlib\n",
      "    Found existing installation: matplotlib 3.1.2\n",
      "    Uninstalling matplotlib-3.1.2:\n",
      "      Successfully uninstalled matplotlib-3.1.2\n",
      "  Attempting uninstall: tqdm\n",
      "    Found existing installation: tqdm 4.28.1\n",
      "    Uninstalling tqdm-4.28.1:\n",
      "      Successfully uninstalled tqdm-4.28.1\n",
      "    Running setup.py install for fbprophet ... \u001b[?25ldone\n",
      "\u001b[33m  DEPRECATION: fbprophet was installed using the legacy 'setup.py install' method, because a wheel could not be built for it. pip 21.0 will remove support for this functionality. A possible replacement is to fix the wheel build issue reported above. You can find discussion regarding this at https://github.com/pypa/pip/issues/8368.\u001b[0m\n",
      "\u001b[31mERROR: After October 2020 you may experience errors when installing or updating packages. This is because pip will change the way that it resolves dependency conflicts.\n",
      "\n",
      "We recommend you use --use-feature=2020-resolver to test your packages with the new resolver before it becomes the default.\n",
      "\n",
      "tensorflow 2.3.1 requires numpy<1.19.0,>=1.16.0, but you'll have numpy 1.19.4 which is incompatible.\n",
      "fastquant 0.1.3.24 requires matplotlib==3.1.2, but you'll have matplotlib 3.3.3 which is incompatible.\n",
      "fastquant 0.1.3.24 requires numpy==1.18.0, but you'll have numpy 1.19.4 which is incompatible.\n",
      "fastquant 0.1.3.24 requires pandas==1.0.3, but you'll have pandas 1.1.5 which is incompatible.\n",
      "fastquant 0.1.3.24 requires tqdm==4.28.1, but you'll have tqdm 4.54.1 which is incompatible.\n",
      "holidays 0.10.4 requires convertdate<=2.2.0, but you'll have convertdate 2.3.0 which is incompatible.\u001b[0m\n",
      "\u001b[?25hSuccessfully installed Cython-0.29.21 LunarCalendar-0.0.9 cmdstanpy-0.9.5 convertdate-2.3.0 ephem-3.7.7.1 fbprophet-0.7.1 holidays-0.10.4 inflection-0.5.1 korean-lunar-calendar-0.2.1 matplotlib-3.3.3 numpy-1.19.4 pandas-1.1.5 pymeeus-0.3.7 pystan-2.19.1.1 quandl-3.5.3 setuptools-git-1.2 tqdm-4.54.1\n"
     ]
    }
   ],
   "source": [
    "!pip3 install -U quandl numpy pandas fbprophet matplotlib pytrends pystan"
   ]
  },
  {
   "cell_type": "code",
   "execution_count": 24,
   "metadata": {},
   "outputs": [
    {
     "ename": "ImportError",
     "evalue": "cannot import name 'Stocker' from 'stocker' (/Users/Jaime/opt/anaconda3/envs/ironhack/lib/python3.8/site-packages/stocker/__init__.py)",
     "output_type": "error",
     "traceback": [
      "\u001b[0;31m---------------------------------------------------------------------------\u001b[0m",
      "\u001b[0;31mImportError\u001b[0m                               Traceback (most recent call last)",
      "\u001b[0;32m<ipython-input-24-9e12cbc46e45>\u001b[0m in \u001b[0;36m<module>\u001b[0;34m\u001b[0m\n\u001b[0;32m----> 1\u001b[0;31m \u001b[0;32mfrom\u001b[0m \u001b[0mstocker\u001b[0m \u001b[0;32mimport\u001b[0m \u001b[0mStocker\u001b[0m\u001b[0;34m\u001b[0m\u001b[0;34m\u001b[0m\u001b[0m\n\u001b[0m",
      "\u001b[0;31mImportError\u001b[0m: cannot import name 'Stocker' from 'stocker' (/Users/Jaime/opt/anaconda3/envs/ironhack/lib/python3.8/site-packages/stocker/__init__.py)"
     ]
    }
   ],
   "source": [
    "from stocker import Stocker"
   ]
  },
  {
   "cell_type": "code",
   "execution_count": 13,
   "metadata": {},
   "outputs": [
    {
     "data": {
      "text/plain": [
       "[122.61, 1.184, '2020-12-14']"
      ]
     },
     "execution_count": 13,
     "metadata": {},
     "output_type": "execute_result"
    }
   ],
   "source": [
    "stocker.predict.tomorrow('AAPL')"
   ]
  },
  {
   "cell_type": "code",
   "execution_count": 16,
   "metadata": {},
   "outputs": [
    {
     "ename": "TypeError",
     "evalue": "'module' object is not callable",
     "output_type": "error",
     "traceback": [
      "\u001b[0;31m---------------------------------------------------------------------------\u001b[0m",
      "\u001b[0;31mTypeError\u001b[0m                                 Traceback (most recent call last)",
      "\u001b[0;32m<ipython-input-16-da0448bc7be1>\u001b[0m in \u001b[0;36m<module>\u001b[0;34m\u001b[0m\n\u001b[0;32m----> 1\u001b[0;31m \u001b[0mmicrosoft\u001b[0m \u001b[0;34m=\u001b[0m \u001b[0mstocker\u001b[0m\u001b[0;34m(\u001b[0m\u001b[0;34m\"MSFT\"\u001b[0m\u001b[0;34m)\u001b[0m\u001b[0;34m\u001b[0m\u001b[0;34m\u001b[0m\u001b[0m\n\u001b[0m",
      "\u001b[0;31mTypeError\u001b[0m: 'module' object is not callable"
     ]
    }
   ],
   "source": [
    "microsoft = stocker(\"MSFT\")"
   ]
  },
  {
   "cell_type": "code",
   "execution_count": null,
   "metadata": {},
   "outputs": [],
   "source": []
  }
 ],
 "metadata": {
  "kernelspec": {
   "display_name": "Python 3",
   "language": "python",
   "name": "python3"
  },
  "language_info": {
   "codemirror_mode": {
    "name": "ipython",
    "version": 3
   },
   "file_extension": ".py",
   "mimetype": "text/x-python",
   "name": "python",
   "nbconvert_exporter": "python",
   "pygments_lexer": "ipython3",
   "version": "3.8.5"
  }
 },
 "nbformat": 4,
 "nbformat_minor": 4
}
