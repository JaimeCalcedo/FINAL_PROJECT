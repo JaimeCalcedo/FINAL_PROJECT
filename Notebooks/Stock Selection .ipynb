{
 "cells": [
  {
   "cell_type": "code",
   "execution_count": 9,
   "metadata": {},
   "outputs": [
    {
     "name": "stdout",
     "output_type": "stream",
     "text": [
      "Collecting yahoofinancials\n",
      "  Downloading yahoofinancials-1.6.tar.gz (27 kB)\n",
      "Requirement already satisfied: beautifulsoup4 in /Users/Jaime/opt/anaconda3/envs/ironhack/lib/python3.8/site-packages (from yahoofinancials) (4.8.2)\n",
      "Requirement already satisfied: pytz in /Users/Jaime/opt/anaconda3/envs/ironhack/lib/python3.8/site-packages (from yahoofinancials) (2019.3)\n",
      "Requirement already satisfied: soupsieve>=1.2 in /Users/Jaime/opt/anaconda3/envs/ironhack/lib/python3.8/site-packages (from beautifulsoup4->yahoofinancials) (1.9.5)\n",
      "Building wheels for collected packages: yahoofinancials\n",
      "  Building wheel for yahoofinancials (setup.py) ... \u001b[?25ldone\n",
      "\u001b[?25h  Created wheel for yahoofinancials: filename=yahoofinancials-1.6-py3-none-any.whl size=15191 sha256=d4779471e5c1fa429a27debf6d1e925ee0cbccafeda93e31864d61f96dd9c38d\n",
      "  Stored in directory: /Users/Jaime/Library/Caches/pip/wheels/6a/90/0c/08c7ac2ce60b9ac91529417d471e59244f9f96848c86f14809\n",
      "Successfully built yahoofinancials\n",
      "Installing collected packages: yahoofinancials\n",
      "Successfully installed yahoofinancials-1.6\n"
     ]
    }
   ],
   "source": [
    "!pip3 install yahoofinancials"
   ]
  },
  {
   "cell_type": "code",
   "execution_count": 17,
   "metadata": {},
   "outputs": [],
   "source": [
    "from yahoofinancials import YahooFinancials"
   ]
  },
  {
   "cell_type": "code",
   "execution_count": 20,
   "metadata": {},
   "outputs": [
    {
     "data": {
      "text/plain": [
       "{'AAPL': {'annualHoldingsTurnover': None,\n",
       "  'enterpriseToRevenue': 7.695,\n",
       "  'beta3Year': None,\n",
       "  'profitMargins': 0.20914,\n",
       "  'enterpriseToEbitda': 27.313,\n",
       "  '52WeekChange': 0.7495892,\n",
       "  'morningStarRiskRating': None,\n",
       "  'forwardEps': 4.33,\n",
       "  'revenueQuarterlyGrowth': None,\n",
       "  'sharesOutstanding': 17102499840,\n",
       "  'fundInceptionDate': '-',\n",
       "  'annualReportExpenseRatio': None,\n",
       "  'totalAssets': None,\n",
       "  'bookValue': 3.849,\n",
       "  'sharesShort': 89985311,\n",
       "  'sharesPercentSharesOut': 0.0053,\n",
       "  'fundFamily': None,\n",
       "  'lastFiscalYearEnd': 1601078400,\n",
       "  'heldPercentInstitutions': 0.59731996,\n",
       "  'netIncomeToCommon': 57410998272,\n",
       "  'trailingEps': 3.28,\n",
       "  'lastDividendValue': 0.205,\n",
       "  'SandP52WeekChange': 0.14789832,\n",
       "  'priceToBook': 31.803066,\n",
       "  'heldPercentInsiders': 0.00066,\n",
       "  'nextFiscalYearEnd': 1664150400,\n",
       "  'yield': None,\n",
       "  'mostRecentQuarter': 1601078400,\n",
       "  'shortRatio': 0.82,\n",
       "  'sharesShortPreviousMonthDate': '2020-10-30',\n",
       "  'floatShares': 16984630180,\n",
       "  'beta': 1.297637,\n",
       "  'enterpriseValue': 2112525565952,\n",
       "  'priceHint': 2,\n",
       "  'threeYearAverageReturn': None,\n",
       "  'lastSplitDate': '2020-08-31',\n",
       "  'lastSplitFactor': '4:1',\n",
       "  'legalType': None,\n",
       "  'lastDividendDate': '2020-11-06',\n",
       "  'morningStarOverallRating': None,\n",
       "  'earningsQuarterlyGrowth': -0.074,\n",
       "  'priceToSalesTrailing12Months': None,\n",
       "  'dateShortInterest': 1606694400,\n",
       "  'pegRatio': 2.46,\n",
       "  'ytdReturn': None,\n",
       "  'forwardPE': 28.270208,\n",
       "  'maxAge': 1,\n",
       "  'lastCapGain': None,\n",
       "  'shortPercentOfFloat': 0.0053,\n",
       "  'sharesShortPriorMonth': 80528396,\n",
       "  'impliedSharesOutstanding': None,\n",
       "  'category': None,\n",
       "  'fiveYearAverageReturn': None}}"
      ]
     },
     "execution_count": 20,
     "metadata": {},
     "output_type": "execute_result"
    }
   ],
   "source": [
    "yahoo_financials = YahooFinancials('AAPL')\n",
    "(yahoo_financials.get_key_statistics_data())"
   ]
  },
  {
   "cell_type": "code",
   "execution_count": null,
   "metadata": {},
   "outputs": [],
   "source": []
  }
 ],
 "metadata": {
  "kernelspec": {
   "display_name": "Python 3",
   "language": "python",
   "name": "python3"
  },
  "language_info": {
   "codemirror_mode": {
    "name": "ipython",
    "version": 3
   },
   "file_extension": ".py",
   "mimetype": "text/x-python",
   "name": "python",
   "nbconvert_exporter": "python",
   "pygments_lexer": "ipython3",
   "version": "3.8.5"
  }
 },
 "nbformat": 4,
 "nbformat_minor": 4
}
