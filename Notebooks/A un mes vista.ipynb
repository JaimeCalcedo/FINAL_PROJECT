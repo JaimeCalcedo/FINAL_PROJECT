{
 "cells": [
  {
   "cell_type": "code",
   "execution_count": 3,
   "metadata": {},
   "outputs": [],
   "source": [
    "import yfinance as yf \n",
    "import math\n",
    "import pandas_datareader as web\n",
    "import numpy as np\n",
    "import pandas as pd\n",
    "from sklearn.preprocessing import MinMaxScaler\n",
    "from keras.models import Sequential\n",
    "from keras.layers import Dense, LSTM\n",
    "import matplotlib.pyplot as plt\n",
    "plt.style.use(\"fivethirtyeight\")"
   ]
  },
  {
   "cell_type": "code",
   "execution_count": 4,
   "metadata": {},
   "outputs": [],
   "source": [
    "df = web.DataReader(\"AAPL\", data_source=\"yahoo\", start=\"2012-01-01\", end=\"2019-12-17\")"
   ]
  },
  {
   "cell_type": "code",
   "execution_count": 5,
   "metadata": {},
   "outputs": [],
   "source": [
    "data = df.filter([\"Close\"])"
   ]
  },
  {
   "cell_type": "code",
   "execution_count": 6,
   "metadata": {},
   "outputs": [],
   "source": [
    "dataset = data.values"
   ]
  },
  {
   "cell_type": "code",
   "execution_count": 7,
   "metadata": {},
   "outputs": [],
   "source": [
    "training_data_len = math.ceil(len(dataset)*.8)"
   ]
  },
  {
   "cell_type": "code",
   "execution_count": 8,
   "metadata": {},
   "outputs": [
    {
     "data": {
      "text/plain": [
       "array([[0.01316509],\n",
       "       [0.01457064],\n",
       "       [0.01748985],\n",
       "       ...,\n",
       "       [0.97658263],\n",
       "       [0.99755134],\n",
       "       [1.        ]])"
      ]
     },
     "execution_count": 8,
     "metadata": {},
     "output_type": "execute_result"
    }
   ],
   "source": [
    "scaler = MinMaxScaler(feature_range=(0,1))\n",
    "scaled_data = scaler.fit_transform(dataset)\n",
    "scaled_data"
   ]
  },
  {
   "cell_type": "code",
   "execution_count": 9,
   "metadata": {},
   "outputs": [],
   "source": [
    "train_data = scaled_data[0:training_data_len, :]"
   ]
  },
  {
   "cell_type": "code",
   "execution_count": 55,
   "metadata": {},
   "outputs": [
    {
     "name": "stdout",
     "output_type": "stream",
     "text": [
      "[array([0.01316509, 0.01457064, 0.01748985, 0.02026915, 0.01984303,\n",
      "       0.02080338, 0.02036454, 0.01962679, 0.01862193, 0.02173194])]\n",
      "[0.02453667868228926]\n",
      "[array([0.01316509, 0.01457064, 0.01748985, 0.02026915, 0.01984303,\n",
      "       0.02080338, 0.02036454, 0.01962679, 0.01862193, 0.02173194]), array([0.01457064, 0.01748985, 0.02026915, 0.01984303, 0.02080338,\n",
      "       0.02036454, 0.01962679, 0.01862193, 0.02173194, 0.02453668])]\n",
      "[0.02453667868228926, 0.023671723005769474]\n"
     ]
    }
   ],
   "source": [
    "x_train = []\n",
    "y_train = []\n",
    "\n",
    "for i in range(10, len(train_data)): \n",
    "    x_train.append(train_data[i-10:i, 0]) #Los valores de 1 a 60\n",
    "    y_train.append(train_data[i, 0]) #Contiene el valor 61 -> valor a predecir\n",
    "    if i <= 11:\n",
    "        print(x_train)\n",
    "        print(y_train)"
   ]
  },
  {
   "cell_type": "code",
   "execution_count": 56,
   "metadata": {},
   "outputs": [],
   "source": [
    "x_train, y_train = np.array(x_train), np.array(y_train)"
   ]
  },
  {
   "cell_type": "code",
   "execution_count": 57,
   "metadata": {},
   "outputs": [],
   "source": [
    "x_train = np.reshape(x_train, (x_train.shape[0], x_train.shape[1], 1))"
   ]
  },
  {
   "cell_type": "code",
   "execution_count": 58,
   "metadata": {},
   "outputs": [],
   "source": [
    "model = Sequential()\n",
    "model.add(LSTM(50, return_sequences = True, input_shape = (x_train.shape[1], 1)))\n",
    "model.add(LSTM(50, return_sequences=False))\n",
    "model.add(Dense(25))\n",
    "model.add(Dense(1))"
   ]
  },
  {
   "cell_type": "code",
   "execution_count": 59,
   "metadata": {},
   "outputs": [],
   "source": [
    "model.compile(optimizer = \"adam\", loss=\"mean_squared_error\")"
   ]
  },
  {
   "cell_type": "code",
   "execution_count": 60,
   "metadata": {},
   "outputs": [
    {
     "name": "stdout",
     "output_type": "stream",
     "text": [
      "1593/1593 [==============================] - 13s 8ms/step - loss: 7.0233e-04\n"
     ]
    },
    {
     "data": {
      "text/plain": [
       "<tensorflow.python.keras.callbacks.History at 0x13fd54490>"
      ]
     },
     "execution_count": 60,
     "metadata": {},
     "output_type": "execute_result"
    }
   ],
   "source": [
    "model.fit(x_train, y_train, batch_size = 1, epochs = 1)"
   ]
  },
  {
   "cell_type": "markdown",
   "metadata": {},
   "source": [
    "TEST"
   ]
  },
  {
   "cell_type": "code",
   "execution_count": 61,
   "metadata": {},
   "outputs": [],
   "source": [
    "test_data = scaled_data[training_data_len - 200: , :] \n",
    "#Cojo el trozo que no he cogido en el training\n",
    "x_test = []\n",
    "y_test = dataset[training_data_len:, :] #Valores que queremos que prediga nuestro modelo\n",
    "for i in range(200, len(test_data)):\n",
    "    x_test.append(test_data[i-200:i, 0])"
   ]
  },
  {
   "cell_type": "code",
   "execution_count": 102,
   "metadata": {},
   "outputs": [
    {
     "name": "stdout",
     "output_type": "stream",
     "text": [
      "[array([[0.91688179],\n",
      "       [0.93397731],\n",
      "       [0.9568159 ],\n",
      "       [0.93994306],\n",
      "       [0.94688811],\n",
      "       [0.95708301],\n",
      "       [0.96015487],\n",
      "       [0.97658263],\n",
      "       [0.99755134],\n",
      "       [1.        ]])]\n",
      "[[[0.91688179]\n",
      "  [0.93397731]\n",
      "  [0.9568159 ]\n",
      "  [0.93994306]\n",
      "  [0.94688811]\n",
      "  [0.95708301]\n",
      "  [0.96015487]\n",
      "  [0.97658263]\n",
      "  [0.99755134]\n",
      "  [1.        ]]]\n",
      "[[70.958176]]\n"
     ]
    }
   ],
   "source": [
    "last_10_days = data[-10:].values \n",
    "#Creo una array de los últimos 200 días \n",
    "last_10_days_scaled = scaler.transform(last_10_days)\n",
    "#Los escalo\n",
    "X_test = []\n",
    "#Creo una lista\n",
    "X_test.append(last_10_days_scaled)\n",
    "print(X_test)\n",
    "#Le meto los valores de los 200 dias escalados\n",
    "X_test = np.array(X_test)\n",
    "print(X_test)\n",
    "#Lo convierto en array\n",
    "X_test = np.reshape(X_test, (X_test.shape[0], X_test.shape[1], 1))\n",
    "#Sacamos la predicción \n",
    "pred_price = model.predict(X_test)\n",
    "#Esta línea lo que hace es aplicar el modelo que acabamos de hacer a los 200 días que le damos, para sacar el valor del día 201\n",
    "pred_price = scaler.inverse_transform(pred_price)\n",
    "print(pred_price)"
   ]
  },
  {
   "cell_type": "code",
   "execution_count": 104,
   "metadata": {},
   "outputs": [
    {
     "name": "stdout",
     "output_type": "stream",
     "text": [
      "[0.91688179 0.93397731 0.9568159  0.93994306 0.94688811 0.95708301\n",
      " 0.96015487 0.97658263 0.99755134 1.         1.01523769]\n"
     ]
    },
    {
     "ename": "IndexError",
     "evalue": "tuple index out of range",
     "output_type": "error",
     "traceback": [
      "\u001b[0;31m---------------------------------------------------------------------------\u001b[0m",
      "\u001b[0;31mIndexError\u001b[0m                                Traceback (most recent call last)",
      "\u001b[0;32m<ipython-input-104-916cf6586fcf>\u001b[0m in \u001b[0;36m<module>\u001b[0;34m\u001b[0m\n\u001b[1;32m     11\u001b[0m     \u001b[0mX_test\u001b[0m \u001b[0;34m=\u001b[0m \u001b[0mnp\u001b[0m\u001b[0;34m.\u001b[0m\u001b[0marray\u001b[0m\u001b[0;34m(\u001b[0m\u001b[0mX_test\u001b[0m\u001b[0;34m)\u001b[0m\u001b[0;34m\u001b[0m\u001b[0;34m\u001b[0m\u001b[0m\n\u001b[1;32m     12\u001b[0m     \u001b[0mprint\u001b[0m\u001b[0;34m(\u001b[0m\u001b[0mX_test\u001b[0m\u001b[0;34m)\u001b[0m\u001b[0;34m\u001b[0m\u001b[0;34m\u001b[0m\u001b[0m\n\u001b[0;32m---> 13\u001b[0;31m     \u001b[0mX_test\u001b[0m \u001b[0;34m=\u001b[0m \u001b[0mnp\u001b[0m\u001b[0;34m.\u001b[0m\u001b[0mreshape\u001b[0m\u001b[0;34m(\u001b[0m\u001b[0mX_test\u001b[0m\u001b[0;34m,\u001b[0m \u001b[0;34m(\u001b[0m\u001b[0mX_test\u001b[0m\u001b[0;34m.\u001b[0m\u001b[0mshape\u001b[0m\u001b[0;34m[\u001b[0m\u001b[0;36m0\u001b[0m\u001b[0;34m]\u001b[0m\u001b[0;34m,\u001b[0m \u001b[0mX_test\u001b[0m\u001b[0;34m.\u001b[0m\u001b[0mshape\u001b[0m\u001b[0;34m[\u001b[0m\u001b[0;36m1\u001b[0m\u001b[0;34m]\u001b[0m\u001b[0;34m,\u001b[0m \u001b[0;36m1\u001b[0m\u001b[0;34m)\u001b[0m\u001b[0;34m)\u001b[0m\u001b[0;34m\u001b[0m\u001b[0;34m\u001b[0m\u001b[0m\n\u001b[0m\u001b[1;32m     14\u001b[0m     \u001b[0mcounter\u001b[0m \u001b[0;34m=\u001b[0m\u001b[0;34m+\u001b[0m \u001b[0;36m1\u001b[0m\u001b[0;34m\u001b[0m\u001b[0;34m\u001b[0m\u001b[0m\n\u001b[1;32m     15\u001b[0m     \u001b[0mprint\u001b[0m\u001b[0;34m(\u001b[0m\u001b[0;34m\"o\"\u001b[0m\u001b[0;34m)\u001b[0m\u001b[0;34m\u001b[0m\u001b[0;34m\u001b[0m\u001b[0m\n",
      "\u001b[0;31mIndexError\u001b[0m: tuple index out of range"
     ]
    }
   ],
   "source": [
    "last_10_days = data[-10:].values \n",
    "last_10_days_scaled = scaler.transform(last_10_days)\n",
    "X_test = []\n",
    "X_test.append(last_10_days_scaled)\n",
    "X_test = np.array(X_test)\n",
    "X_test = np.reshape(X_test, (X_test.shape[0], X_test.shape[1], 1))\n",
    "for i in range(0, 10):\n",
    "    counter = 0\n",
    "    pred_price = model.predict(X_test)\n",
    "    X_test = np.append(X_test, pred_price)\n",
    "    X_test = np.array(X_test)\n",
    "    print(X_test)\n",
    "    X_test = np.reshape(X_test, (X_test.shape[0], X_test.shape[1], 1))\n",
    "    counter =+ 1\n",
    "    print(\"o\")\n",
    "    print(X_test)\n",
    "    if counter == 10:\n",
    "        break\n",
    "   "
   ]
  },
  {
   "cell_type": "code",
   "execution_count": 106,
   "metadata": {},
   "outputs": [
    {
     "data": {
      "text/plain": [
       "array([0.91688179, 0.93397731, 0.9568159 , 0.93994306, 0.94688811,\n",
       "       0.95708301, 0.96015487, 0.97658263, 0.99755134, 1.        ,\n",
       "       1.01523769])"
      ]
     },
     "execution_count": 106,
     "metadata": {},
     "output_type": "execute_result"
    }
   ],
   "source": [
    "last_10_days = data[-10:].values \n",
    "last_10_days_scaled = scaler.transform(last_10_days)\n",
    "X_test = []\n"
   ]
  },
  {
   "cell_type": "code",
   "execution_count": 85,
   "metadata": {},
   "outputs": [
    {
     "data": {
      "text/plain": [
       "array([ 0.91688179,  0.93397731,  0.9568159 ,  0.93994306,  0.94688811,\n",
       "        0.95708301,  0.96015487,  0.97658263,  0.99755134,  1.        ,\n",
       "       70.95817566])"
      ]
     },
     "execution_count": 85,
     "metadata": {},
     "output_type": "execute_result"
    }
   ],
   "source": [
    "X_test"
   ]
  },
  {
   "cell_type": "code",
   "execution_count": 65,
   "metadata": {},
   "outputs": [],
   "source": [
    "X_test2 = np.append(X_test, pred_price)"
   ]
  },
  {
   "cell_type": "code",
   "execution_count": 49,
   "metadata": {},
   "outputs": [
    {
     "data": {
      "text/plain": [
       "array([ 0.52858161,  0.51958863,  0.52141395,  0.54808117,  0.55702966,\n",
       "        0.56059124,  0.56958416,  0.58022435,  0.58868312,  0.58204967,\n",
       "        0.58930639,  0.62015846,  0.60217256,  0.59188854,  0.58320715,\n",
       "        0.59068649,  0.59179948,  0.59727537,  0.60301844,  0.6153949 ,\n",
       "        0.62131602,  0.62282967,  0.62866173,  0.64246284,  0.63979164,\n",
       "        0.64477781,  0.63734304,  0.63698688,  0.63858959,  0.63867865,\n",
       "        0.65595228,  0.6592022 ,  0.66218501,  0.67531828,  0.67389369,\n",
       "        0.66552398,  0.66116107,  0.66254117,  0.64500043,  0.68885229,\n",
       "        0.68275305,  0.69432819,  0.67977025,  0.65475024,  0.65492828,\n",
       "        0.64522304,  0.62946305,  0.57844359,  0.59153237,  0.60159378,\n",
       "        0.59785415,  0.59304602,  0.5667349 ,  0.58236134,  0.56535481,\n",
       "        0.5514647 ,  0.54839284,  0.54509836,  0.54131423,  0.54541003,\n",
       "        0.53103021,  0.52315021,  0.55137564,  0.56428631,  0.57621761,\n",
       "        0.59816575,  0.60898406,  0.61891192,  0.61615172,  0.61597361,\n",
       "        0.60969639,  0.61481612,  0.63511706,  0.63253491,  0.63961359,\n",
       "        0.63658622,  0.63569584,  0.62229545,  0.64112724,  0.64086013,\n",
       "        0.63275753,  0.64891817,  0.65417146,  0.66165079,  0.6608494 ,\n",
       "        0.64210668,  0.64753808,  0.65639744,  0.64980855,  0.65670911,\n",
       "        0.66521238,  0.66205145,  0.65693172,  0.66721575,  0.65354819,\n",
       "        0.6741608 ,  0.68137296,  0.68061613,  0.67327042,  0.67647584,\n",
       "        0.68511259,  0.68110585,  0.70007119,  0.67954764,  0.65991453,\n",
       "        0.61236753,  0.62866173,  0.6377437 ,  0.65728782,  0.64642509,\n",
       "        0.64415454,  0.68195173,  0.65426052,  0.64976406,  0.67095538,\n",
       "        0.68809546,  0.68813996,  0.69829043,  0.69748911,  0.6537708 ,\n",
       "        0.67091088,  0.6605378 ,  0.66663697,  0.68212978,  0.6809278 ,\n",
       "        0.66739379,  0.68293117,  0.70113968,  0.70105063,  0.70510193,\n",
       "        0.71636539,  0.74703941,  0.74481343,  0.72549193,  0.73061166,\n",
       "        0.73417324,  0.74338884,  0.7353308 ,  0.72095091,  0.72535838,\n",
       "        0.7207283 ,  0.7356424 ,  0.73056716,  0.7258036 ,  0.74873118,\n",
       "        0.75149138,  0.72642687,  0.73470753,  0.76226512,  0.76248773,\n",
       "        0.75064549,  0.76235418,  0.77597718,  0.80322324,  0.80170952,\n",
       "        0.79926099,  0.79503157,  0.79908288,  0.80411362,  0.82236663,\n",
       "        0.8199181 ,  0.83425336,  0.83603418,  0.84939007,  0.86038643,\n",
       "        0.83474308,  0.83460952,  0.85909532,  0.89052624,  0.89800551,\n",
       "        0.8963583 ,  0.89684795,  0.90659776,  0.90975875,  0.91892979,\n",
       "        0.91786122,  0.92903569,  0.92088866,  0.93477877,  0.94074438,\n",
       "        0.9371383 ,  0.92333719,  0.9180839 ,  0.9170599 ,  0.9374944 ,\n",
       "        0.92823437,  0.94403879,  0.94141215,  0.9276556 ,  0.90668689,\n",
       "        0.91688179,  0.93397731,  0.9568159 ,  0.93994306,  0.94688811,\n",
       "        0.95708301,  0.96015487,  0.97658263,  0.99755134,  1.        ,\n",
       "       63.58189774])"
      ]
     },
     "execution_count": 49,
     "metadata": {},
     "output_type": "execute_result"
    }
   ],
   "source": [
    "X_test2"
   ]
  },
  {
   "cell_type": "code",
   "execution_count": null,
   "metadata": {},
   "outputs": [],
   "source": []
  }
 ],
 "metadata": {
  "kernelspec": {
   "display_name": "Python 3",
   "language": "python",
   "name": "python3"
  },
  "language_info": {
   "codemirror_mode": {
    "name": "ipython",
    "version": 3
   },
   "file_extension": ".py",
   "mimetype": "text/x-python",
   "name": "python",
   "nbconvert_exporter": "python",
   "pygments_lexer": "ipython3",
   "version": "3.8.5"
  }
 },
 "nbformat": 4,
 "nbformat_minor": 4
}
